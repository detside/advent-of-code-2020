{
 "metadata": {
  "language_info": {
   "codemirror_mode": {
    "name": "ipython",
    "version": 3
   },
   "file_extension": ".py",
   "mimetype": "text/x-python",
   "name": "python",
   "nbconvert_exporter": "python",
   "pygments_lexer": "ipython3",
   "version": "3.8.3-final"
  },
  "orig_nbformat": 2,
  "kernelspec": {
   "name": "python3",
   "display_name": "Python 3"
  }
 },
 "nbformat": 4,
 "nbformat_minor": 2,
 "cells": [
  {
   "source": [
    "Part 1"
   ],
   "cell_type": "markdown",
   "metadata": {}
  },
  {
   "cell_type": "code",
   "execution_count": 25,
   "metadata": {
    "tags": []
   },
   "outputs": [],
   "source": [
    "fileName = \"Day 2 input.txt\"\n",
    "listOfPassword = []\n",
    "passwordFile = open(fileName, \"r\")\n",
    "\n",
    "for line in passwordFile:\n",
    "    passwordAndRules = line.strip()\n",
    "    tempRules = passwordAndRules.split()\n",
    "    indices = tempRules[0].split('-')\n",
    "    tempRules[0] = int(indices[0])\n",
    "    tempRules.insert(1,int(indices[1]))\n",
    "    tempRules[2] = tempRules[2][0]\n",
    "    listOfPassword.append(tempRules)"
   ]
  },
  {
   "cell_type": "code",
   "execution_count": 27,
   "metadata": {},
   "outputs": [
    {
     "output_type": "stream",
     "name": "stdout",
     "text": [
      "[2, 4, 'p', 'vpkpp']\n"
     ]
    }
   ],
   "source": [
    "print(listOfPassword[0])"
   ]
  },
  {
   "cell_type": "code",
   "execution_count": 72,
   "metadata": {},
   "outputs": [],
   "source": [
    "def count(password, letter):\n",
    "    tally = 0\n",
    "    for char in password:\n",
    "        if(char == letter):\n",
    "            tally=tally+1\n",
    "    return tally\n",
    "\n",
    "def isPasswordCorrect(passwordRules):\n",
    "    letterOccurrence = count(passwordRules[3], passwordRules[2])\n",
    "    if (letterOccurrence <= passwordRules[1]):\n",
    "        if (letterOccurrence >= passwordRules[0]):\n",
    "            return 1\n",
    "        else:\n",
    "            return 0\n",
    "    else: \n",
    "        return 0\n",
    "\n",
    "\n"
   ]
  },
  {
   "cell_type": "code",
   "execution_count": 73,
   "metadata": {
    "tags": []
   },
   "outputs": [
    {
     "output_type": "stream",
     "name": "stdout",
     "text": [
      "474\n"
     ]
    }
   ],
   "source": [
    "total = 0\n",
    "for instance in listOfPassword:\n",
    "    if (isPasswordCorrect(instance)):\n",
    "        total = total + 1\n",
    "print(total)"
   ]
  },
  {
   "source": [
    "Part 2"
   ],
   "cell_type": "markdown",
   "metadata": {}
  },
  {
   "cell_type": "code",
   "execution_count": 78,
   "metadata": {},
   "outputs": [],
   "source": [
    "def isPasswordCorrectNewRules(passwordRules):\n",
    "    count = 0\n",
    "    if(passwordRules[-1][passwordRules[0]-1] == passwordRules[2]):\n",
    "        count = count + 1\n",
    "    if(passwordRules[-1][passwordRules[1]-1] == passwordRules[2]):\n",
    "        count = count + 1\n",
    "    return (count == 1)"
   ]
  },
  {
   "cell_type": "code",
   "execution_count": 79,
   "metadata": {},
   "outputs": [
    {
     "output_type": "stream",
     "name": "stdout",
     "text": [
      "745\n"
     ]
    }
   ],
   "source": [
    "total = 0\n",
    "for instance in listOfPassword:\n",
    "    if (isPasswordCorrectNewRules(instance)):\n",
    "        total = total + 1\n",
    "print(total)"
   ]
  },
  {
   "cell_type": "code",
   "execution_count": null,
   "metadata": {},
   "outputs": [],
   "source": []
  }
 ]
}