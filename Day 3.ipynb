{
 "metadata": {
  "language_info": {
   "codemirror_mode": {
    "name": "ipython",
    "version": 3
   },
   "file_extension": ".py",
   "mimetype": "text/x-python",
   "name": "python",
   "nbconvert_exporter": "python",
   "pygments_lexer": "ipython3",
   "version": "3.8.3-final"
  },
  "orig_nbformat": 2,
  "kernelspec": {
   "name": "python3",
   "display_name": "Python 3"
  }
 },
 "nbformat": 4,
 "nbformat_minor": 2,
 "cells": [
  {
   "cell_type": "code",
   "execution_count": 36,
   "metadata": {
    "tags": []
   },
   "outputs": [
    {
     "output_type": "stream",
     "name": "stdout",
     "text": [
      "[1, 1]\n84\n[1, 3]\n289\n[1, 5]\n89\n[1, 7]\n71\n[2, 1]\n36\n5522401584\n"
     ]
    }
   ],
   "source": [
    "input_file = \"Day 3 input.txt\"\n",
    "initial_tree_map = open(input_file, \"r\")\n",
    "full_tree_map = []\n",
    "for line in initial_tree_map:\n",
    "    full_tree_map.append(line.strip())\n",
    "    for x in range(10):\n",
    "        full_tree_map[-1] = full_tree_map[-1] + full_tree_map[-1]\n",
    "velocity = [[1,1],[1,3],[1,5],[1,7],[2,1]]\n",
    "\n",
    "mult_trees = 1\n",
    "\n",
    "for path in velocity:\n",
    "    count_trees = 0\n",
    "    position = [0,0]\n",
    "    print(path)\n",
    "    while position[0] < len(full_tree_map):\n",
    "        if(full_tree_map[position[0]][position[1]]=='#'):\n",
    "            count_trees = count_trees+1\n",
    "        position[0] = position[0] + path[0]\n",
    "        position[1] = position[1] + path[1]\n",
    "    print(count_trees)\n",
    "    mult_trees = mult_trees * count_trees\n",
    "print(mult_trees)"
   ]
  },
  {
   "cell_type": "code",
   "execution_count": null,
   "metadata": {},
   "outputs": [],
   "source": []
  }
 ]
}