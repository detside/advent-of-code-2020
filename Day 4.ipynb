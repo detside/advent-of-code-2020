{
 "metadata": {
  "language_info": {
   "codemirror_mode": {
    "name": "ipython",
    "version": 3
   },
   "file_extension": ".py",
   "mimetype": "text/x-python",
   "name": "python",
   "nbconvert_exporter": "python",
   "pygments_lexer": "ipython3",
   "version": "3.8.3-final"
  },
  "orig_nbformat": 2,
  "kernelspec": {
   "name": "python3",
   "display_name": "Python 3"
  }
 },
 "nbformat": 4,
 "nbformat_minor": 2,
 "cells": [
  {
   "cell_type": "code",
   "execution_count": 63,
   "metadata": {
    "tags": []
   },
   "outputs": [
    {
     "output_type": "stream",
     "name": "stdout",
     "text": [
      "116\n"
     ]
    }
   ],
   "source": [
    "import re\n",
    "\n",
    "def is_passport_valid(passport):\n",
    "    for element in ['ecl','eyr','hcl','byr','iyr','pid','hgt']:\n",
    "        if element not in passport: return False\n",
    "    return True\n",
    "\n",
    "def rules_respected(passport, field):\n",
    "    if field == 'ecl':\n",
    "        return passport[field] in ['amb', 'blu', 'brn', 'gry', 'grn', 'hzl', 'oth'] \n",
    "    elif field == 'eyr': return 2020 <= int(passport[field]) <= 2030\n",
    "    elif field == 'byr': return 1920 <= int(passport[field]) <= 2002\n",
    "    elif field == 'iyr': return 2010 <= int(passport[field]) <= 2020\n",
    "    elif field == 'hcl': \n",
    "        if re.search('#[0-9;a-f]{6}',passport[field]) and not re.search('#[0-9;a-f]{7}',passport[field]): return True\n",
    "        else: return False\n",
    "    elif field == 'pid': \n",
    "        if re.search('[0-9]{9}',passport[field]) and not re.search('[0-9]{10}',passport[field]): return True\n",
    "        else: return False\n",
    "    elif field == 'hgt':\n",
    "        if re.search('[a-z]{2}',passport[field]) and re.search('[0-9]{2,3}',passport[field]):\n",
    "            if re.search('[a-z]{2}',passport[field]).group() == 'in':\n",
    "                return 59 <= int(re.search('[0-9]{2,3}',passport[field]).group()) <= 76\n",
    "            elif re.search('[a-z]{2}',passport[field]).group() == 'cm':\n",
    "                return 150 <= int(re.search('[0-9]{2,3}',passport[field]).group()) <= 193\n",
    "        else: return False\n",
    "    \n",
    "\n",
    "def is_passport_valid_full_rules(passport):\n",
    "    for element in ['ecl','eyr','hcl','byr','iyr','pid','hgt']:\n",
    "        if element not in passport: return False\n",
    "        else:\n",
    "            if not rules_respected(passport, element): return False\n",
    "    return True\n",
    "\n",
    "\n",
    "input_file = \"Day 4 input.txt\"\n",
    "raw_input = open(input_file, 'r')\n",
    "passports = []\n",
    "entry = {}\n",
    "correct_passports = 0\n",
    "for line in raw_input:\n",
    "    temp = line.strip().split(' ')\n",
    "    for item in temp:\n",
    "        temp2 = item.split(':')\n",
    "        if temp2[0] == '' or temp2[0] =='end':\n",
    "            passports.append(entry)\n",
    "            if is_passport_valid_full_rules(entry):\n",
    "                correct_passports = correct_passports+1\n",
    "            entry = {}\n",
    "        else:\n",
    "            entry[temp2[0]] = temp2[1]\n",
    "print(correct_passports)\n"
   ]
  },
  {
   "cell_type": "code",
   "execution_count": null,
   "metadata": {},
   "outputs": [],
   "source": []
  }
 ]
}