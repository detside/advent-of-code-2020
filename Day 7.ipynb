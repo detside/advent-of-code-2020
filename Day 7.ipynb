{
 "metadata": {
  "language_info": {
   "codemirror_mode": {
    "name": "ipython",
    "version": 3
   },
   "file_extension": ".py",
   "mimetype": "text/x-python",
   "name": "python",
   "nbconvert_exporter": "python",
   "pygments_lexer": "ipython3",
   "version": "3.8.3-final"
  },
  "orig_nbformat": 2,
  "kernelspec": {
   "name": "python3",
   "display_name": "Python 3"
  }
 },
 "nbformat": 4,
 "nbformat_minor": 2,
 "cells": [
  {
   "cell_type": "code",
   "execution_count": 40,
   "metadata": {},
   "outputs": [
    {
     "output_type": "stream",
     "name": "stdout",
     "text": [
      "[' 1 bright white', ', 2 muted yellow', '']\n[' 3 bright white', ', 4 muted yellow', '']\n[' 1 shiny gold', '']\n[' 2 shiny gold', ', 9 faded blue', '']\n[' 1 dark olive', ', 2 vibrant plum', '']\n[' 3 faded blue', ', 4 dotted black', '']\n[' 5 faded blue', ', 6 dotted black', '']\n[' no other', '']\n[' no other', '']\n{'name': 'dotted black ', 'bags_in_bag_details': [{'num_bags': '', 'bag_name': 'no other'}], 'bags_in_bag': -1}\n"
     ]
    }
   ],
   "source": [
    "input_file_name = 'Day 7 input small.txt'\n",
    "input_file = open(input_file_name)\n",
    "\n",
    "for line in input_file:\n",
    "    bag_info = {}\n",
    "    temp = line.strip().split('bag contain')\n",
    "    bag_info['name'] = temp[0]\n",
    "    contained_bags = temp[1].split(' bag')\n",
    "    print(contained_bags)\n",
    "    for item in contained_bags:\n",
    "        if(item == 'no other'):\n",
    "            bag_info['bags_in_bag'] = 0\n",
    "            break\n",
    "        elif(item == ''): #final item in the list\n",
    "            bag_info['bags_in_bag'] = len(item)-1\n",
    "        else: \n",
    "            bags_details = {}\n",
    "            bag_info['bags_in_bag_details'] = []\n",
    "            bags_details['num_bags'] = item.split(' ')[0]\n",
    "            bags_details['bag_name'] = item.split(' ')[1] + ' ' + item.split(' ')[2]\n",
    "            bag_info['bags_in_bag_details'].append(bags_details)\n",
    "\n",
    "print(bag_info)"
   ]
  },
  {
   "cell_type": "code",
   "execution_count": null,
   "metadata": {},
   "outputs": [],
   "source": []
  }
 ]
}