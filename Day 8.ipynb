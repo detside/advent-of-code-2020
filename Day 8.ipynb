{
 "metadata": {
  "language_info": {
   "codemirror_mode": {
    "name": "ipython",
    "version": 3
   },
   "file_extension": ".py",
   "mimetype": "text/x-python",
   "name": "python",
   "nbconvert_exporter": "python",
   "pygments_lexer": "ipython3",
   "version": "3.8.3-final"
  },
  "orig_nbformat": 2,
  "kernelspec": {
   "name": "python3",
   "display_name": "Python 3"
  }
 },
 "nbformat": 4,
 "nbformat_minor": 2,
 "cells": [
  {
   "cell_type": "code",
   "execution_count": 22,
   "metadata": {},
   "outputs": [
    {
     "output_type": "stream",
     "name": "stdout",
     "text": [
      "Program completed successfully acc: 552 and i: 642\nOperation to be changed: jmp - index: 430\n"
     ]
    }
   ],
   "source": [
    "input_name = 'Day 8 input.txt'\n",
    "input_file = open(input_name,'r')\n",
    "\n",
    "instructions = []\n",
    "\n",
    "for line in input_file:\n",
    "    instruction = {}\n",
    "    data = line.strip().split(' ')\n",
    "    instruction['type'] = data[0]\n",
    "    instruction['value'] = int(data[1])\n",
    "    instructions.append(instruction)\n",
    "\n",
    "#print(instructions)\n",
    "\n",
    "def run_boot_code(instructions):\n",
    "    accumulator = 0\n",
    "    i = 0\n",
    "    program_running = True\n",
    "    program_successfully_completed = False\n",
    "    executed_instructions = []\n",
    "    while program_running:\n",
    "        if i >= len(instructions):\n",
    "            print('Program completed successfully acc: {} and i: {}'.format(accumulator, i))\n",
    "            program_running = False\n",
    "            program_successfully_completed = True\n",
    "        elif i in executed_instructions:\n",
    "            #print('Program failed and looped acc: {} and i: {}'.format(accumulator, i))\n",
    "            program_running = False\n",
    "            #return accumulator\n",
    "        elif instructions[i]['type'] == 'nop':\n",
    "            executed_instructions.append(i)\n",
    "            i = i + 1\n",
    "        elif instructions[i]['type'] == 'acc':\n",
    "            executed_instructions.append(i)\n",
    "            accumulator = accumulator + instructions[i]['value']\n",
    "            i = i + 1\n",
    "        elif instructions[i]['type'] == 'jmp':\n",
    "            executed_instructions.append(i)\n",
    "            i = i + instructions[i]['value']\n",
    "    return program_successfully_completed\n",
    "\n",
    "for idx, ops in enumerate(instructions):\n",
    "    if ops['type'] == 'jmp':\n",
    "        ops['type'] = 'nop'\n",
    "        if (run_boot_code(instructions)): \n",
    "            print(\"Operation to be changed: jmp - index: {}\".format(idx))\n",
    "            break\n",
    "        else: ops['type'] = 'jmp'\n",
    "    elif ops['type'] == 'nop':\n",
    "        ops['type'] = 'jmp'\n",
    "        if (run_boot_code(instructions)): \n",
    "            print(\"Operation to be changed: nop - index: {}\".format(idx))\n",
    "            break\n",
    "        else: ops['type'] = 'nop'"
   ]
  },
  {
   "cell_type": "code",
   "execution_count": null,
   "metadata": {},
   "outputs": [],
   "source": []
  }
 ]
}