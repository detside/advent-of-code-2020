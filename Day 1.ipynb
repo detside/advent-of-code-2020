{
 "metadata": {
  "language_info": {
   "codemirror_mode": {
    "name": "ipython",
    "version": 3
   },
   "file_extension": ".py",
   "mimetype": "text/x-python",
   "name": "python",
   "nbconvert_exporter": "python",
   "pygments_lexer": "ipython3",
   "version": "3.8.3-final"
  },
  "orig_nbformat": 2,
  "kernelspec": {
   "name": "python3",
   "display_name": "Python 3"
  }
 },
 "nbformat": 4,
 "nbformat_minor": 2,
 "cells": [
  {
   "source": [
    "Part 1:"
   ],
   "cell_type": "markdown",
   "metadata": {}
  },
  {
   "cell_type": "code",
   "execution_count": 10,
   "metadata": {},
   "outputs": [
    {
     "output_type": "stream",
     "name": "stdout",
     "text": [
      "[1782, 1344, 1974, 1874, 1800, 1973, 1416, 1952, 1982, 1506, 1642, 1514, 1978, 1895, 1747, 1564, 1398, 1683, 1886, 1492, 1629, 1433, 295, 1793, 1740, 1852, 1697, 1471, 1361, 1751, 1426, 2004, 1763, 1663, 1742, 1666, 1733, 1880, 1600, 1723, 1478, 1912, 1820, 1615, 1875, 1547, 1554, 752, 1905, 1368, 954, 1425, 1391, 691, 1835, 744, 1850, 1713, 1995, 1926, 1817, 1774, 1986, 2010, 1427, 1609, 1927, 1362, 1420, 1722, 1590, 1925, 1617, 1434, 1826, 1636, 1687, 1946, 704, 1797, 1517, 1801, 1865, 1963, 1828, 1829, 1955, 1832, 1987, 1585, 1646, 1575, 1351, 1345, 1729, 1933, 1918, 1902, 1490, 1627, 1370, 1650, 1340, 1539, 1588, 1715, 1573, 1384, 1403, 1673, 1750, 1578, 1831, 1849, 1719, 1359, 2008, 1837, 1958, 480, 1388, 1770, 1999, 1066, 1730, 1541, 1802, 1962, 1891, 1816, 1505, 1665, 1551, 1954, 1378, 1998, 1612, 1544, 1953, 1502, 1888, 1655, 1614, 1903, 1675, 1498, 1653, 1769, 1863, 1607, 1945, 1651, 1558, 1777, 1460, 1711, 1677, 1988, 1441, 1821, 1867, 1656, 1731, 1885, 1482, 1439, 1990, 1809, 1794, 1951, 1858, 1969, 509, 1486, 1971, 1557, 1896, 1884, 1834, 1814, 1216, 1997, 1966, 1808, 1754, 1804, 1684, 2001, 1699, 1781, 1429, 1322, 1603, 1596, 1823, 1700, 1552, 1352, 1621, 1669]\n"
     ]
    }
   ],
   "source": [
    "file_name = 'Day 1 input.txt'\n",
    "account_file = open(file_name,\"r\")\n",
    "account_entries = []\n",
    "\n",
    "for line in account_file:\n",
    "    new_entry = line.strip()\n",
    "    account_entries.append(int(new_entry))\n",
    "\n",
    "account_file.close()\n",
    "print(account_entries)"
   ]
  },
  {
   "cell_type": "code",
   "execution_count": 14,
   "metadata": {},
   "outputs": [
    {
     "output_type": "stream",
     "name": "stdout",
     "text": [
      "3126\n"
     ]
    }
   ],
   "source": [
    "def addTwoInts(val1, val2):\n",
    "    return val1 + val2"
   ]
  },
  {
   "cell_type": "code",
   "execution_count": 28,
   "metadata": {},
   "outputs": [
    {
     "output_type": "stream",
     "name": "stdout",
     "text": [
      "954 1066 1016964\n1066 954 1016964\n"
     ]
    }
   ],
   "source": [
    "for num in account_entries:\n",
    "    for secNum in account_entries:\n",
    "        if(addTwoInts(num, secNum) == 2020):\n",
    "            print(num, secNum, num * secNum)\n",
    "            break\n"
   ]
  },
  {
   "source": [
    "Part 2:"
   ],
   "cell_type": "markdown",
   "metadata": {}
  },
  {
   "cell_type": "code",
   "execution_count": 30,
   "metadata": {},
   "outputs": [],
   "source": [
    "def addThreeInts(val1, val2, val3):\n",
    "    return val1 + val2 + val3"
   ]
  },
  {
   "cell_type": "code",
   "execution_count": 33,
   "metadata": {},
   "outputs": [
    {
     "output_type": "stream",
     "name": "stdout",
     "text": [
      "295 509 1216 182588480\n",
      "295 1216 509 182588480\n",
      "509 295 1216 182588480\n",
      "509 1216 295 182588480\n",
      "1216 295 509 182588480\n",
      "1216 509 295 182588480\n"
     ]
    }
   ],
   "source": [
    "for num in account_entries:\n",
    "    for secNum in account_entries:\n",
    "        for thirdNum in account_entries:\n",
    "            if(addThreeInts(num, secNum, thirdNum) == 2020):\n",
    "                print(num, secNum, thirdNum, num * secNum * thirdNum)\n",
    "                break"
   ]
  },
  {
   "cell_type": "code",
   "execution_count": null,
   "metadata": {},
   "outputs": [],
   "source": []
  }
 ]
}