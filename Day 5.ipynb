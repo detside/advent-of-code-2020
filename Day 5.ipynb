{
 "metadata": {
  "language_info": {
   "codemirror_mode": {
    "name": "ipython",
    "version": 3
   },
   "file_extension": ".py",
   "mimetype": "text/x-python",
   "name": "python",
   "nbconvert_exporter": "python",
   "pygments_lexer": "ipython3",
   "version": "3.8.3-final"
  },
  "orig_nbformat": 2,
  "kernelspec": {
   "name": "python3",
   "display_name": "Python 3"
  }
 },
 "nbformat": 4,
 "nbformat_minor": 2,
 "cells": [
  {
   "cell_type": "code",
   "execution_count": 203,
   "metadata": {
    "tags": []
   },
   "outputs": [
    {
     "output_type": "stream",
     "name": "stdout",
     "text": [
      "896\n"
     ]
    },
    {
     "output_type": "error",
     "ename": "TypeError",
     "evalue": "list indices must be integers or slices, not str",
     "traceback": [
      "\u001b[0;31m---------------------------------------------------------------------------\u001b[0m",
      "\u001b[0;31mTypeError\u001b[0m                                 Traceback (most recent call last)",
      "\u001b[0;32m<ipython-input-203-0503e27ad5cd>\u001b[0m in \u001b[0;36m<module>\u001b[0;34m\u001b[0m\n\u001b[1;32m     49\u001b[0m \u001b[0;31m# print(calc_id(seat_info))\u001b[0m\u001b[0;34m\u001b[0m\u001b[0;34m\u001b[0m\u001b[0;34m\u001b[0m\u001b[0m\n\u001b[1;32m     50\u001b[0m \u001b[0mtop_id\u001b[0m \u001b[0;34m=\u001b[0m \u001b[0mpart_one\u001b[0m\u001b[0;34m(\u001b[0m\u001b[0minput_file\u001b[0m\u001b[0;34m,\u001b[0m\u001b[0mseats\u001b[0m\u001b[0;34m,\u001b[0m\u001b[0mseat_info\u001b[0m\u001b[0;34m)\u001b[0m\u001b[0;34m\u001b[0m\u001b[0;34m\u001b[0m\u001b[0m\n\u001b[0;32m---> 51\u001b[0;31m \u001b[0mprint\u001b[0m\u001b[0;34m(\u001b[0m\u001b[0mfind_missing_ids\u001b[0m\u001b[0;34m(\u001b[0m\u001b[0mtop_id\u001b[0m\u001b[0;34m,\u001b[0m\u001b[0mseats\u001b[0m\u001b[0;34m)\u001b[0m\u001b[0;34m)\u001b[0m\u001b[0;34m\u001b[0m\u001b[0;34m\u001b[0m\u001b[0m\n\u001b[0m\u001b[1;32m     52\u001b[0m \u001b[0;31m# print(seats)\u001b[0m\u001b[0;34m\u001b[0m\u001b[0;34m\u001b[0m\u001b[0;34m\u001b[0m\u001b[0m\n",
      "\u001b[0;32m<ipython-input-203-0503e27ad5cd>\u001b[0m in \u001b[0;36mfind_missing_ids\u001b[0;34m(top_id, seats)\u001b[0m\n\u001b[1;32m     40\u001b[0m     \u001b[0mcount\u001b[0m \u001b[0;34m=\u001b[0m \u001b[0;36m1\u001b[0m\u001b[0;34m\u001b[0m\u001b[0;34m\u001b[0m\u001b[0m\n\u001b[1;32m     41\u001b[0m     \u001b[0;32mwhile\u001b[0m \u001b[0mcount\u001b[0m \u001b[0;34m<\u001b[0m \u001b[0mtop_id\u001b[0m\u001b[0;34m:\u001b[0m\u001b[0;34m\u001b[0m\u001b[0;34m\u001b[0m\u001b[0m\n\u001b[0;32m---> 42\u001b[0;31m         \u001b[0;32mif\u001b[0m \u001b[0mcount\u001b[0m \u001b[0;32mnot\u001b[0m \u001b[0;32min\u001b[0m \u001b[0mseats\u001b[0m\u001b[0;34m[\u001b[0m\u001b[0;34m:\u001b[0m\u001b[0;34m]\u001b[0m\u001b[0;34m[\u001b[0m\u001b[0;34m'id'\u001b[0m\u001b[0;34m]\u001b[0m\u001b[0;34m:\u001b[0m\u001b[0;34m\u001b[0m\u001b[0;34m\u001b[0m\u001b[0m\n\u001b[0m\u001b[1;32m     43\u001b[0m             \u001b[0mmissing_seats\u001b[0m\u001b[0;34m.\u001b[0m\u001b[0mappend\u001b[0m\u001b[0;34m(\u001b[0m\u001b[0mcount\u001b[0m\u001b[0;34m)\u001b[0m\u001b[0;34m\u001b[0m\u001b[0;34m\u001b[0m\u001b[0m\n\u001b[1;32m     44\u001b[0m         \u001b[0mcount\u001b[0m \u001b[0;34m=\u001b[0m \u001b[0mcount\u001b[0m\u001b[0;34m+\u001b[0m\u001b[0;36m1\u001b[0m\u001b[0;34m\u001b[0m\u001b[0;34m\u001b[0m\u001b[0m\n",
      "\u001b[0;31mTypeError\u001b[0m: list indices must be integers or slices, not str"
     ]
    }
   ],
   "source": [
    "input_file = 'Day 5 input.txt'\n",
    "row_number = 127\n",
    "seats = []\n",
    "#r_r = row_range\n",
    "#s_r = seat_range\n",
    "def find_seat(r_r, s_r, letters, seats_details):\n",
    "    if r_r[0] == r_r[1]:\n",
    "        seats_details['row_number'] = r_r[0]\n",
    "    if s_r[0] == s_r[1]:\n",
    "        seats_details['seat_number'] = s_r[0]\n",
    "        return 'Done'\n",
    "    elif letters[0] == 'F':\n",
    "        find_seat([int(r_r[0]),int((r_r[1]-r_r[0]-1)/2+r_r[0])],s_r,letters[1:], seats_details)\n",
    "    elif letters[0] == 'B':\n",
    "        find_seat([int(r_r[1]-(r_r[1]-r_r[0]-1)/2),int(r_r[1])], s_r,letters[1:], seats_details)\n",
    "    elif letters[0] == 'L':\n",
    "        find_seat(r_r, [int(s_r[0]),int((s_r[1]-s_r[0]-1)/2+s_r[0])],letters[1:], seats_details) \n",
    "    elif letters[0] == 'R':\n",
    "        find_seat(r_r,[int(s_r[1]-(s_r[1]-s_r[0]-1)/2),int(s_r[1])],letters[1:],seats_details)\n",
    "    return \"Done\"\n",
    "    \n",
    "def calc_id(seat_info):\n",
    "    return (seat_info['row_number']*8 + seat_info['seat_number'])\n",
    "\n",
    "def part_one(input_file, seats, seat_info):\n",
    "    inputs = open(input_file,'r')\n",
    "    top_id = 0\n",
    "    for line in inputs:\n",
    "        seat_info = {}\n",
    "        find_seat([0,127],[0,7],line.strip(), seat_info)\n",
    "        seat_info['id'] = calc_id(seat_info)\n",
    "        seats.append(seat_info)\n",
    "        if seat_info['id'] > top_id:\n",
    "            top_id = seat_info['id']\n",
    "    return top_id\n",
    "\n",
    "def find_missing_ids(top_id,seats):\n",
    "    missing_seats = []\n",
    "    print(top_id)\n",
    "    count = 1\n",
    "    while count < top_id:\n",
    "        if count not in seats[:]['id']:\n",
    "            missing_seats.append(count)\n",
    "        count = count+1\n",
    "    return missing_seats\n",
    "\n",
    "# print(find_seat([0,127],[0,7],'FBFBBFFRLR', seat_info))\n",
    "# print(seat_info)\n",
    "# print(calc_id(seat_info))\n",
    "top_id = part_one(input_file,seats,seat_info)\n",
    "print(find_missing_ids(top_id,seats))\n",
    "# print(seats)"
   ]
  },
  {
   "cell_type": "code",
   "execution_count": null,
   "metadata": {},
   "outputs": [],
   "source": []
  },
  {
   "cell_type": "code",
   "execution_count": null,
   "metadata": {},
   "outputs": [],
   "source": []
  }
 ]
}