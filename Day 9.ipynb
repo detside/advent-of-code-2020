{
 "metadata": {
  "language_info": {
   "codemirror_mode": {
    "name": "ipython",
    "version": 3
   },
   "file_extension": ".py",
   "mimetype": "text/x-python",
   "name": "python",
   "nbconvert_exporter": "python",
   "pygments_lexer": "ipython3",
   "version": "3.8.3-final"
  },
  "orig_nbformat": 2,
  "kernelspec": {
   "name": "python3",
   "display_name": "Python 3"
  }
 },
 "nbformat": 4,
 "nbformat_minor": 2,
 "cells": [
  {
   "cell_type": "code",
   "execution_count": 69,
   "metadata": {
    "tags": []
   },
   "outputs": [
    {
     "output_type": "stream",
     "name": "stdout",
     "text": [
      "Index = 606, Value = 776203571\n83311742\n"
     ]
    }
   ],
   "source": [
    "input_name = 'Day 9 input.txt'\n",
    "input_file = open(input_name,'r')\n",
    "numbers = []\n",
    "for line in input_file: numbers.append(int(line.strip()))\n",
    "\n",
    "preamble = 25\n",
    "\n",
    "\n",
    "for idx, num in enumerate(numbers[preamble:]):\n",
    "    sum_check = False\n",
    "    for sec_idx, first_num in enumerate(numbers[idx:idx+preamble-1]):\n",
    "        for second_num in numbers[idx+sec_idx+1:idx+preamble]:\n",
    "            sum_value = first_num + second_num\n",
    "            #print(\"idx = {}, First num = {}, second num = {}, num = {}, sum = {}\".format(idx, first_num, second_num, num, sum_value))\n",
    "            if (sum_value == num):\n",
    "                sum_check = True\n",
    "    if not sum_check:\n",
    "        print(\"Index = {}, Value = {}\".format(idx, num))\n",
    "\n",
    "value = 776203571\n",
    "\n",
    "numbers.reverse()\n",
    "\n",
    "for idx, num in enumerate(numbers):\n",
    "    if num < value:\n",
    "        sum_values = num\n",
    "        i = idx + 1\n",
    "        #print(idx, sum_values)\n",
    "        while sum_values < value and i < len(numbers):\n",
    "            #print(i)\n",
    "            sum_values += numbers[i]\n",
    "            i = i + 1\n",
    "            #print(\"i = {}, numbers[i] = {}, sum_values = {}\".format(i, numbers[i], sum_values))\n",
    "        if(sum_values == value):\n",
    "            print(\"sum = {}, value = {}, i = {}, idx = {}, first and last num sum = {}\".format(sum_values, value, i-1, numbers[i-0]+numbers[idx])\n",
    "            break\n",
    "        #print(sum_values)"
   ]
  },
  {
   "cell_type": "code",
   "execution_count": null,
   "metadata": {},
   "outputs": [],
   "source": []
  },
  {
   "cell_type": "code",
   "execution_count": null,
   "metadata": {},
   "outputs": [],
   "source": []
  }
 ]
}